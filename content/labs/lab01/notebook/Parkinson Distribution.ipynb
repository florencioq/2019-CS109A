{
 "cells": [
  {
   "cell_type": "code",
   "execution_count": null,
   "id": "7a5ebeef",
   "metadata": {},
   "outputs": [],
   "source": [
    "# Medicações\n",
    "# A, B, C, D, E\n",
    "\n",
    "# Cada medicação tem \n",
    "# grau: subida, plato, descida\n",
    "# duracao: subida, plato, descida\n",
    "\n",
    "med1 = {'subida': {'grau': 1, 'duracao': 1}, 'plato': {'grau': 1, 'duracao': 1}, 'descida': {'grau': 1, 'duracao': 1}}\n",
    "med1 = {'subida': {'grau': 1, 'duracao': 1}, 'plato': {'grau': 1, 'duracao': 1}, 'descida': {'grau': 1, 'duracao': 1}}\n",
    "med1 = {'subida': {'grau': 1, 'duracao': 1}, 'plato': {'grau': 1, 'duracao': 1}, 'descida': {'grau': 1, 'duracao': 1}}\n",
    "med1 = {'subida': {'grau': 1, 'duracao': 1}, 'plato': {'grau': 1, 'duracao': 1}, 'descida': {'grau': 1, 'duracao': 1}}\n",
    "med1 = {'subida': {'grau': 1, 'duracao': 1}, 'plato': {'grau': 1, 'duracao': 1}, 'descida': {'grau': 1, 'duracao': 1}}"
   ]
  },
  {
   "cell_type": "code",
   "execution_count": 21,
   "id": "50dcb494",
   "metadata": {},
   "outputs": [
    {
     "data": {
      "image/png": "[encoded data removed]",
      "text/plain": [
       "<Figure size 432x288 with 1 Axes>"
      ]
     },
     "metadata": {
      "needs_background": "light"
     },
     "output_type": "display_data"
    }
   ],
   "source": [
    "import matplotlib.pyplot as plt\n",
    "import numpy as np\n",
    "x = np.linspace(0,24,24*60)\n",
    "y = 2*x\n",
    "plt.plot(x, y, '-r')\n",
    "plt.xlabel('x', color='#1C2833')\n",
    "plt.ylabel('y', color='#1C2833')\n",
    "plt.grid()\n",
    "plt.show()"
   ]
  },
  {
   "cell_type": "code",
   "execution_count": null,
   "id": "4968c5d0",
   "metadata": {},
   "outputs": [],
   "source": []
  },
  {
   "cell_type": "code",
   "execution_count": null,
   "id": "7669b053",
   "metadata": {},
   "outputs": [],
   "source": [
    "# Estágios\n",
    "subida = 40\n",
    "plato = 100\n",
    "descida = "
   ]
  },
  {
   "cell_type": "code",
   "execution_count": null,
   "id": "706dc6cf",
   "metadata": {},
   "outputs": [],
   "source": [
    "subiud"
   ]
  }
 ],
 "metadata": {
  "kernelspec": {
   "display_name": "Python 3",
   "language": "python",
   "name": "python3"
  },
  "language_info": {
   "codemirror_mode": {
    "name": "ipython",
    "version": 3
   },
   "file_extension": ".py",
   "mimetype": "text/x-python",
   "name": "python",
   "nbconvert_exporter": "python",
   "pygments_lexer": "ipython3",
   "version": "3.9.2"
  }
 },
 "nbformat": 4,
 "nbformat_minor": 5
}
